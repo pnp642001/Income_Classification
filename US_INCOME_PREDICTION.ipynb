{
  "nbformat": 4,
  "nbformat_minor": 0,
  "metadata": {
    "colab": {
      "name": "US_INCOME_PREDICTION",
      "provenance": [],
      "collapsed_sections": [],
      "authorship_tag": "ABX9TyNEdGsRg3WlszuQGjddLiIf",
      "include_colab_link": true
    },
    "kernelspec": {
      "name": "python3",
      "display_name": "Python 3"
    },
    "language_info": {
      "name": "python"
    }
  },
  "cells": [
    {
      "cell_type": "markdown",
      "metadata": {
        "id": "view-in-github",
        "colab_type": "text"
      },
      "source": [
        "<a href=\"https://colab.research.google.com/github/pnp642001/Income_Classification/blob/main/US_INCOME_PREDICTION.ipynb\" target=\"_parent\"><img src=\"https://colab.research.google.com/assets/colab-badge.svg\" alt=\"Open In Colab\"/></a>"
      ]
    },
    {
      "cell_type": "markdown",
      "source": [
        "#**PARTH PATEL**\n",
        "\n",
        "##**TO CLASSIFY WHETHER THE INCOME IS LESS THAN $50K OR MORE**"
      ],
      "metadata": {
        "id": "ldTg6eEohcXL"
      }
    },
    {
      "cell_type": "code",
      "execution_count": null,
      "metadata": {
        "id": "GkS4XPNcSqrt",
        "colab": {
          "base_uri": "https://localhost:8080/"
        },
        "outputId": "7c5eac25-1106-401e-b052-39b2c9ca7eab"
      },
      "outputs": [
        {
          "output_type": "stream",
          "name": "stdout",
          "text": [
            "(32560, 15)\n"
          ]
        }
      ],
      "source": [
        "#First, we will convert the .csv file into data_frame using pandas\n",
        "\n",
        "import pandas as pd\n",
        "\n",
        "df=pd.read_csv('adult.csv')\n",
        "print(df.shape)"
      ]
    },
    {
      "cell_type": "code",
      "source": [
        "df.head()"
      ],
      "metadata": {
        "id": "Zvy5caCKTPFU",
        "colab": {
          "base_uri": "https://localhost:8080/",
          "height": 206
        },
        "outputId": "b2933e7a-b219-4989-bb2a-20bbbdde1da7"
      },
      "execution_count": null,
      "outputs": [
        {
          "output_type": "execute_result",
          "data": {
            "text/plain": [
              "   39          State-gov   77516   Bachelors   13        Never-married  \\\n",
              "0  50   Self-emp-not-inc   83311   Bachelors   13   Married-civ-spouse   \n",
              "1  38            Private  215646     HS-grad    9             Divorced   \n",
              "2  53            Private  234721        11th    7   Married-civ-spouse   \n",
              "3  28            Private  338409   Bachelors   13   Married-civ-spouse   \n",
              "4  37            Private  284582     Masters   14   Married-civ-spouse   \n",
              "\n",
              "         Adm-clerical   Not-in-family   White     Male   2174   0   40  \\\n",
              "0     Exec-managerial         Husband   White     Male      0   0   13   \n",
              "1   Handlers-cleaners   Not-in-family   White     Male      0   0   40   \n",
              "2   Handlers-cleaners         Husband   Black     Male      0   0   40   \n",
              "3      Prof-specialty            Wife   Black   Female      0   0   40   \n",
              "4     Exec-managerial            Wife   White   Female      0   0   40   \n",
              "\n",
              "    United-States   <=50K  \n",
              "0   United-States   <=50K  \n",
              "1   United-States   <=50K  \n",
              "2   United-States   <=50K  \n",
              "3            Cuba   <=50K  \n",
              "4   United-States   <=50K  "
            ],
            "text/html": [
              "\n",
              "  <div id=\"df-040944ff-1cb3-47dc-8f75-e0e289ae881e\">\n",
              "    <div class=\"colab-df-container\">\n",
              "      <div>\n",
              "<style scoped>\n",
              "    .dataframe tbody tr th:only-of-type {\n",
              "        vertical-align: middle;\n",
              "    }\n",
              "\n",
              "    .dataframe tbody tr th {\n",
              "        vertical-align: top;\n",
              "    }\n",
              "\n",
              "    .dataframe thead th {\n",
              "        text-align: right;\n",
              "    }\n",
              "</style>\n",
              "<table border=\"1\" class=\"dataframe\">\n",
              "  <thead>\n",
              "    <tr style=\"text-align: right;\">\n",
              "      <th></th>\n",
              "      <th>39</th>\n",
              "      <th>State-gov</th>\n",
              "      <th>77516</th>\n",
              "      <th>Bachelors</th>\n",
              "      <th>13</th>\n",
              "      <th>Never-married</th>\n",
              "      <th>Adm-clerical</th>\n",
              "      <th>Not-in-family</th>\n",
              "      <th>White</th>\n",
              "      <th>Male</th>\n",
              "      <th>2174</th>\n",
              "      <th>0</th>\n",
              "      <th>40</th>\n",
              "      <th>United-States</th>\n",
              "      <th>&lt;=50K</th>\n",
              "    </tr>\n",
              "  </thead>\n",
              "  <tbody>\n",
              "    <tr>\n",
              "      <th>0</th>\n",
              "      <td>50</td>\n",
              "      <td>Self-emp-not-inc</td>\n",
              "      <td>83311</td>\n",
              "      <td>Bachelors</td>\n",
              "      <td>13</td>\n",
              "      <td>Married-civ-spouse</td>\n",
              "      <td>Exec-managerial</td>\n",
              "      <td>Husband</td>\n",
              "      <td>White</td>\n",
              "      <td>Male</td>\n",
              "      <td>0</td>\n",
              "      <td>0</td>\n",
              "      <td>13</td>\n",
              "      <td>United-States</td>\n",
              "      <td>&lt;=50K</td>\n",
              "    </tr>\n",
              "    <tr>\n",
              "      <th>1</th>\n",
              "      <td>38</td>\n",
              "      <td>Private</td>\n",
              "      <td>215646</td>\n",
              "      <td>HS-grad</td>\n",
              "      <td>9</td>\n",
              "      <td>Divorced</td>\n",
              "      <td>Handlers-cleaners</td>\n",
              "      <td>Not-in-family</td>\n",
              "      <td>White</td>\n",
              "      <td>Male</td>\n",
              "      <td>0</td>\n",
              "      <td>0</td>\n",
              "      <td>40</td>\n",
              "      <td>United-States</td>\n",
              "      <td>&lt;=50K</td>\n",
              "    </tr>\n",
              "    <tr>\n",
              "      <th>2</th>\n",
              "      <td>53</td>\n",
              "      <td>Private</td>\n",
              "      <td>234721</td>\n",
              "      <td>11th</td>\n",
              "      <td>7</td>\n",
              "      <td>Married-civ-spouse</td>\n",
              "      <td>Handlers-cleaners</td>\n",
              "      <td>Husband</td>\n",
              "      <td>Black</td>\n",
              "      <td>Male</td>\n",
              "      <td>0</td>\n",
              "      <td>0</td>\n",
              "      <td>40</td>\n",
              "      <td>United-States</td>\n",
              "      <td>&lt;=50K</td>\n",
              "    </tr>\n",
              "    <tr>\n",
              "      <th>3</th>\n",
              "      <td>28</td>\n",
              "      <td>Private</td>\n",
              "      <td>338409</td>\n",
              "      <td>Bachelors</td>\n",
              "      <td>13</td>\n",
              "      <td>Married-civ-spouse</td>\n",
              "      <td>Prof-specialty</td>\n",
              "      <td>Wife</td>\n",
              "      <td>Black</td>\n",
              "      <td>Female</td>\n",
              "      <td>0</td>\n",
              "      <td>0</td>\n",
              "      <td>40</td>\n",
              "      <td>Cuba</td>\n",
              "      <td>&lt;=50K</td>\n",
              "    </tr>\n",
              "    <tr>\n",
              "      <th>4</th>\n",
              "      <td>37</td>\n",
              "      <td>Private</td>\n",
              "      <td>284582</td>\n",
              "      <td>Masters</td>\n",
              "      <td>14</td>\n",
              "      <td>Married-civ-spouse</td>\n",
              "      <td>Exec-managerial</td>\n",
              "      <td>Wife</td>\n",
              "      <td>White</td>\n",
              "      <td>Female</td>\n",
              "      <td>0</td>\n",
              "      <td>0</td>\n",
              "      <td>40</td>\n",
              "      <td>United-States</td>\n",
              "      <td>&lt;=50K</td>\n",
              "    </tr>\n",
              "  </tbody>\n",
              "</table>\n",
              "</div>\n",
              "      <button class=\"colab-df-convert\" onclick=\"convertToInteractive('df-040944ff-1cb3-47dc-8f75-e0e289ae881e')\"\n",
              "              title=\"Convert this dataframe to an interactive table.\"\n",
              "              style=\"display:none;\">\n",
              "        \n",
              "  <svg xmlns=\"http://www.w3.org/2000/svg\" height=\"24px\"viewBox=\"0 0 24 24\"\n",
              "       width=\"24px\">\n",
              "    <path d=\"M0 0h24v24H0V0z\" fill=\"none\"/>\n",
              "    <path d=\"M18.56 5.44l.94 2.06.94-2.06 2.06-.94-2.06-.94-.94-2.06-.94 2.06-2.06.94zm-11 1L8.5 8.5l.94-2.06 2.06-.94-2.06-.94L8.5 2.5l-.94 2.06-2.06.94zm10 10l.94 2.06.94-2.06 2.06-.94-2.06-.94-.94-2.06-.94 2.06-2.06.94z\"/><path d=\"M17.41 7.96l-1.37-1.37c-.4-.4-.92-.59-1.43-.59-.52 0-1.04.2-1.43.59L10.3 9.45l-7.72 7.72c-.78.78-.78 2.05 0 2.83L4 21.41c.39.39.9.59 1.41.59.51 0 1.02-.2 1.41-.59l7.78-7.78 2.81-2.81c.8-.78.8-2.07 0-2.86zM5.41 20L4 18.59l7.72-7.72 1.47 1.35L5.41 20z\"/>\n",
              "  </svg>\n",
              "      </button>\n",
              "      \n",
              "  <style>\n",
              "    .colab-df-container {\n",
              "      display:flex;\n",
              "      flex-wrap:wrap;\n",
              "      gap: 12px;\n",
              "    }\n",
              "\n",
              "    .colab-df-convert {\n",
              "      background-color: #E8F0FE;\n",
              "      border: none;\n",
              "      border-radius: 50%;\n",
              "      cursor: pointer;\n",
              "      display: none;\n",
              "      fill: #1967D2;\n",
              "      height: 32px;\n",
              "      padding: 0 0 0 0;\n",
              "      width: 32px;\n",
              "    }\n",
              "\n",
              "    .colab-df-convert:hover {\n",
              "      background-color: #E2EBFA;\n",
              "      box-shadow: 0px 1px 2px rgba(60, 64, 67, 0.3), 0px 1px 3px 1px rgba(60, 64, 67, 0.15);\n",
              "      fill: #174EA6;\n",
              "    }\n",
              "\n",
              "    [theme=dark] .colab-df-convert {\n",
              "      background-color: #3B4455;\n",
              "      fill: #D2E3FC;\n",
              "    }\n",
              "\n",
              "    [theme=dark] .colab-df-convert:hover {\n",
              "      background-color: #434B5C;\n",
              "      box-shadow: 0px 1px 3px 1px rgba(0, 0, 0, 0.15);\n",
              "      filter: drop-shadow(0px 1px 2px rgba(0, 0, 0, 0.3));\n",
              "      fill: #FFFFFF;\n",
              "    }\n",
              "  </style>\n",
              "\n",
              "      <script>\n",
              "        const buttonEl =\n",
              "          document.querySelector('#df-040944ff-1cb3-47dc-8f75-e0e289ae881e button.colab-df-convert');\n",
              "        buttonEl.style.display =\n",
              "          google.colab.kernel.accessAllowed ? 'block' : 'none';\n",
              "\n",
              "        async function convertToInteractive(key) {\n",
              "          const element = document.querySelector('#df-040944ff-1cb3-47dc-8f75-e0e289ae881e');\n",
              "          const dataTable =\n",
              "            await google.colab.kernel.invokeFunction('convertToInteractive',\n",
              "                                                     [key], {});\n",
              "          if (!dataTable) return;\n",
              "\n",
              "          const docLinkHtml = 'Like what you see? Visit the ' +\n",
              "            '<a target=\"_blank\" href=https://colab.research.google.com/notebooks/data_table.ipynb>data table notebook</a>'\n",
              "            + ' to learn more about interactive tables.';\n",
              "          element.innerHTML = '';\n",
              "          dataTable['output_type'] = 'display_data';\n",
              "          await google.colab.output.renderOutput(dataTable, element);\n",
              "          const docLink = document.createElement('div');\n",
              "          docLink.innerHTML = docLinkHtml;\n",
              "          element.appendChild(docLink);\n",
              "        }\n",
              "      </script>\n",
              "    </div>\n",
              "  </div>\n",
              "  "
            ]
          },
          "metadata": {},
          "execution_count": 3
        }
      ]
    },
    {
      "cell_type": "code",
      "source": [
        "#WE WILL ADD THE COLUMN NAMES\n",
        "\n",
        "df.columns=['Age','Workclass','Fnlwgt','Education','education_num','marital_status','occupation','relationship','race','sex','capital_gain','capital_loss','hours_per_week','native_country','income']\n"
      ],
      "metadata": {
        "id": "GECEz6XkTarv"
      },
      "execution_count": null,
      "outputs": []
    },
    {
      "cell_type": "code",
      "source": [
        "df.head()"
      ],
      "metadata": {
        "id": "LB9Td1lXUt53",
        "colab": {
          "base_uri": "https://localhost:8080/",
          "height": 357
        },
        "outputId": "e331e95d-db4e-486c-f496-8d7647040677"
      },
      "execution_count": null,
      "outputs": [
        {
          "output_type": "execute_result",
          "data": {
            "text/plain": [
              "   Age          Workclass  Fnlwgt   Education  education_num  \\\n",
              "0   50   Self-emp-not-inc   83311   Bachelors             13   \n",
              "1   38            Private  215646     HS-grad              9   \n",
              "2   53            Private  234721        11th              7   \n",
              "3   28            Private  338409   Bachelors             13   \n",
              "4   37            Private  284582     Masters             14   \n",
              "\n",
              "        marital_status          occupation    relationship    race      sex  \\\n",
              "0   Married-civ-spouse     Exec-managerial         Husband   White     Male   \n",
              "1             Divorced   Handlers-cleaners   Not-in-family   White     Male   \n",
              "2   Married-civ-spouse   Handlers-cleaners         Husband   Black     Male   \n",
              "3   Married-civ-spouse      Prof-specialty            Wife   Black   Female   \n",
              "4   Married-civ-spouse     Exec-managerial            Wife   White   Female   \n",
              "\n",
              "   capital_gain  capital_loss  hours_per_week  native_country  income  \n",
              "0             0             0              13   United-States   <=50K  \n",
              "1             0             0              40   United-States   <=50K  \n",
              "2             0             0              40   United-States   <=50K  \n",
              "3             0             0              40            Cuba   <=50K  \n",
              "4             0             0              40   United-States   <=50K  "
            ],
            "text/html": [
              "\n",
              "  <div id=\"df-19d75d9f-7409-46b5-afd1-003cd8ff3574\">\n",
              "    <div class=\"colab-df-container\">\n",
              "      <div>\n",
              "<style scoped>\n",
              "    .dataframe tbody tr th:only-of-type {\n",
              "        vertical-align: middle;\n",
              "    }\n",
              "\n",
              "    .dataframe tbody tr th {\n",
              "        vertical-align: top;\n",
              "    }\n",
              "\n",
              "    .dataframe thead th {\n",
              "        text-align: right;\n",
              "    }\n",
              "</style>\n",
              "<table border=\"1\" class=\"dataframe\">\n",
              "  <thead>\n",
              "    <tr style=\"text-align: right;\">\n",
              "      <th></th>\n",
              "      <th>Age</th>\n",
              "      <th>Workclass</th>\n",
              "      <th>Fnlwgt</th>\n",
              "      <th>Education</th>\n",
              "      <th>education_num</th>\n",
              "      <th>marital_status</th>\n",
              "      <th>occupation</th>\n",
              "      <th>relationship</th>\n",
              "      <th>race</th>\n",
              "      <th>sex</th>\n",
              "      <th>capital_gain</th>\n",
              "      <th>capital_loss</th>\n",
              "      <th>hours_per_week</th>\n",
              "      <th>native_country</th>\n",
              "      <th>income</th>\n",
              "    </tr>\n",
              "  </thead>\n",
              "  <tbody>\n",
              "    <tr>\n",
              "      <th>0</th>\n",
              "      <td>50</td>\n",
              "      <td>Self-emp-not-inc</td>\n",
              "      <td>83311</td>\n",
              "      <td>Bachelors</td>\n",
              "      <td>13</td>\n",
              "      <td>Married-civ-spouse</td>\n",
              "      <td>Exec-managerial</td>\n",
              "      <td>Husband</td>\n",
              "      <td>White</td>\n",
              "      <td>Male</td>\n",
              "      <td>0</td>\n",
              "      <td>0</td>\n",
              "      <td>13</td>\n",
              "      <td>United-States</td>\n",
              "      <td>&lt;=50K</td>\n",
              "    </tr>\n",
              "    <tr>\n",
              "      <th>1</th>\n",
              "      <td>38</td>\n",
              "      <td>Private</td>\n",
              "      <td>215646</td>\n",
              "      <td>HS-grad</td>\n",
              "      <td>9</td>\n",
              "      <td>Divorced</td>\n",
              "      <td>Handlers-cleaners</td>\n",
              "      <td>Not-in-family</td>\n",
              "      <td>White</td>\n",
              "      <td>Male</td>\n",
              "      <td>0</td>\n",
              "      <td>0</td>\n",
              "      <td>40</td>\n",
              "      <td>United-States</td>\n",
              "      <td>&lt;=50K</td>\n",
              "    </tr>\n",
              "    <tr>\n",
              "      <th>2</th>\n",
              "      <td>53</td>\n",
              "      <td>Private</td>\n",
              "      <td>234721</td>\n",
              "      <td>11th</td>\n",
              "      <td>7</td>\n",
              "      <td>Married-civ-spouse</td>\n",
              "      <td>Handlers-cleaners</td>\n",
              "      <td>Husband</td>\n",
              "      <td>Black</td>\n",
              "      <td>Male</td>\n",
              "      <td>0</td>\n",
              "      <td>0</td>\n",
              "      <td>40</td>\n",
              "      <td>United-States</td>\n",
              "      <td>&lt;=50K</td>\n",
              "    </tr>\n",
              "    <tr>\n",
              "      <th>3</th>\n",
              "      <td>28</td>\n",
              "      <td>Private</td>\n",
              "      <td>338409</td>\n",
              "      <td>Bachelors</td>\n",
              "      <td>13</td>\n",
              "      <td>Married-civ-spouse</td>\n",
              "      <td>Prof-specialty</td>\n",
              "      <td>Wife</td>\n",
              "      <td>Black</td>\n",
              "      <td>Female</td>\n",
              "      <td>0</td>\n",
              "      <td>0</td>\n",
              "      <td>40</td>\n",
              "      <td>Cuba</td>\n",
              "      <td>&lt;=50K</td>\n",
              "    </tr>\n",
              "    <tr>\n",
              "      <th>4</th>\n",
              "      <td>37</td>\n",
              "      <td>Private</td>\n",
              "      <td>284582</td>\n",
              "      <td>Masters</td>\n",
              "      <td>14</td>\n",
              "      <td>Married-civ-spouse</td>\n",
              "      <td>Exec-managerial</td>\n",
              "      <td>Wife</td>\n",
              "      <td>White</td>\n",
              "      <td>Female</td>\n",
              "      <td>0</td>\n",
              "      <td>0</td>\n",
              "      <td>40</td>\n",
              "      <td>United-States</td>\n",
              "      <td>&lt;=50K</td>\n",
              "    </tr>\n",
              "  </tbody>\n",
              "</table>\n",
              "</div>\n",
              "      <button class=\"colab-df-convert\" onclick=\"convertToInteractive('df-19d75d9f-7409-46b5-afd1-003cd8ff3574')\"\n",
              "              title=\"Convert this dataframe to an interactive table.\"\n",
              "              style=\"display:none;\">\n",
              "        \n",
              "  <svg xmlns=\"http://www.w3.org/2000/svg\" height=\"24px\"viewBox=\"0 0 24 24\"\n",
              "       width=\"24px\">\n",
              "    <path d=\"M0 0h24v24H0V0z\" fill=\"none\"/>\n",
              "    <path d=\"M18.56 5.44l.94 2.06.94-2.06 2.06-.94-2.06-.94-.94-2.06-.94 2.06-2.06.94zm-11 1L8.5 8.5l.94-2.06 2.06-.94-2.06-.94L8.5 2.5l-.94 2.06-2.06.94zm10 10l.94 2.06.94-2.06 2.06-.94-2.06-.94-.94-2.06-.94 2.06-2.06.94z\"/><path d=\"M17.41 7.96l-1.37-1.37c-.4-.4-.92-.59-1.43-.59-.52 0-1.04.2-1.43.59L10.3 9.45l-7.72 7.72c-.78.78-.78 2.05 0 2.83L4 21.41c.39.39.9.59 1.41.59.51 0 1.02-.2 1.41-.59l7.78-7.78 2.81-2.81c.8-.78.8-2.07 0-2.86zM5.41 20L4 18.59l7.72-7.72 1.47 1.35L5.41 20z\"/>\n",
              "  </svg>\n",
              "      </button>\n",
              "      \n",
              "  <style>\n",
              "    .colab-df-container {\n",
              "      display:flex;\n",
              "      flex-wrap:wrap;\n",
              "      gap: 12px;\n",
              "    }\n",
              "\n",
              "    .colab-df-convert {\n",
              "      background-color: #E8F0FE;\n",
              "      border: none;\n",
              "      border-radius: 50%;\n",
              "      cursor: pointer;\n",
              "      display: none;\n",
              "      fill: #1967D2;\n",
              "      height: 32px;\n",
              "      padding: 0 0 0 0;\n",
              "      width: 32px;\n",
              "    }\n",
              "\n",
              "    .colab-df-convert:hover {\n",
              "      background-color: #E2EBFA;\n",
              "      box-shadow: 0px 1px 2px rgba(60, 64, 67, 0.3), 0px 1px 3px 1px rgba(60, 64, 67, 0.15);\n",
              "      fill: #174EA6;\n",
              "    }\n",
              "\n",
              "    [theme=dark] .colab-df-convert {\n",
              "      background-color: #3B4455;\n",
              "      fill: #D2E3FC;\n",
              "    }\n",
              "\n",
              "    [theme=dark] .colab-df-convert:hover {\n",
              "      background-color: #434B5C;\n",
              "      box-shadow: 0px 1px 3px 1px rgba(0, 0, 0, 0.15);\n",
              "      filter: drop-shadow(0px 1px 2px rgba(0, 0, 0, 0.3));\n",
              "      fill: #FFFFFF;\n",
              "    }\n",
              "  </style>\n",
              "\n",
              "      <script>\n",
              "        const buttonEl =\n",
              "          document.querySelector('#df-19d75d9f-7409-46b5-afd1-003cd8ff3574 button.colab-df-convert');\n",
              "        buttonEl.style.display =\n",
              "          google.colab.kernel.accessAllowed ? 'block' : 'none';\n",
              "\n",
              "        async function convertToInteractive(key) {\n",
              "          const element = document.querySelector('#df-19d75d9f-7409-46b5-afd1-003cd8ff3574');\n",
              "          const dataTable =\n",
              "            await google.colab.kernel.invokeFunction('convertToInteractive',\n",
              "                                                     [key], {});\n",
              "          if (!dataTable) return;\n",
              "\n",
              "          const docLinkHtml = 'Like what you see? Visit the ' +\n",
              "            '<a target=\"_blank\" href=https://colab.research.google.com/notebooks/data_table.ipynb>data table notebook</a>'\n",
              "            + ' to learn more about interactive tables.';\n",
              "          element.innerHTML = '';\n",
              "          dataTable['output_type'] = 'display_data';\n",
              "          await google.colab.output.renderOutput(dataTable, element);\n",
              "          const docLink = document.createElement('div');\n",
              "          docLink.innerHTML = docLinkHtml;\n",
              "          element.appendChild(docLink);\n",
              "        }\n",
              "      </script>\n",
              "    </div>\n",
              "  </div>\n",
              "  "
            ]
          },
          "metadata": {},
          "execution_count": 5
        }
      ]
    },
    {
      "cell_type": "code",
      "source": [
        "#WE WILL CHECK FOR NULL VALUES\n",
        "df.isnull().sum()"
      ],
      "metadata": {
        "id": "El6hfRwxUvY3",
        "colab": {
          "base_uri": "https://localhost:8080/"
        },
        "outputId": "15603a23-72e5-4457-be1e-dcbabe7455c0"
      },
      "execution_count": null,
      "outputs": [
        {
          "output_type": "execute_result",
          "data": {
            "text/plain": [
              "Age               0\n",
              "Workclass         0\n",
              "Fnlwgt            0\n",
              "Education         0\n",
              "education_num     0\n",
              "marital_status    0\n",
              "occupation        0\n",
              "relationship      0\n",
              "race              0\n",
              "sex               0\n",
              "capital_gain      0\n",
              "capital_loss      0\n",
              "hours_per_week    0\n",
              "native_country    0\n",
              "income            0\n",
              "dtype: int64"
            ]
          },
          "metadata": {},
          "execution_count": 6
        }
      ]
    },
    {
      "cell_type": "code",
      "source": [
        "df.dtypes"
      ],
      "metadata": {
        "id": "7dPxVl37UzxX",
        "colab": {
          "base_uri": "https://localhost:8080/"
        },
        "outputId": "b12a8048-563f-427d-da94-b06ba97d121f"
      },
      "execution_count": null,
      "outputs": [
        {
          "output_type": "execute_result",
          "data": {
            "text/plain": [
              "Age                int64\n",
              "Workclass         object\n",
              "Fnlwgt             int64\n",
              "Education         object\n",
              "education_num      int64\n",
              "marital_status    object\n",
              "occupation        object\n",
              "relationship      object\n",
              "race              object\n",
              "sex               object\n",
              "capital_gain       int64\n",
              "capital_loss       int64\n",
              "hours_per_week     int64\n",
              "native_country    object\n",
              "income            object\n",
              "dtype: object"
            ]
          },
          "metadata": {},
          "execution_count": 7
        }
      ]
    },
    {
      "cell_type": "code",
      "source": [
        "#AS CERTAIN ATTRIBUTES ARE NOT NUMERIC. WE WILL NEED TO CONVERT THEM INTO NUMERICAL FORM"
      ],
      "metadata": {
        "id": "1cZ9_efzU9HZ"
      },
      "execution_count": null,
      "outputs": []
    },
    {
      "cell_type": "code",
      "source": [
        "#COLUMN NAME : Workclass, marital_status occupation relationship  race  sex  native_country income ARE OF OBJECT TYPE\n",
        "# WE WILL USE LABEL ENCODER\n",
        "\n"
      ],
      "metadata": {
        "id": "L34UgZqcV4Xq"
      },
      "execution_count": null,
      "outputs": []
    },
    {
      "cell_type": "code",
      "source": [
        "from sklearn.preprocessing import LabelEncoder"
      ],
      "metadata": {
        "id": "iCbvBu31Y-AH"
      },
      "execution_count": null,
      "outputs": []
    },
    {
      "cell_type": "code",
      "source": [
        "cat_columns_1= [ i for i in df.columns if df[i].dtypes=='object']\n",
        "print(cat_columns_1)"
      ],
      "metadata": {
        "id": "NhXjs9NPIQue",
        "colab": {
          "base_uri": "https://localhost:8080/"
        },
        "outputId": "70b1042d-778c-4923-b21b-e421ebb1630b"
      },
      "execution_count": null,
      "outputs": [
        {
          "output_type": "stream",
          "name": "stdout",
          "text": [
            "['Workclass', 'Education', 'marital_status', 'occupation', 'relationship', 'race', 'sex', 'native_country', 'income']\n"
          ]
        }
      ]
    },
    {
      "cell_type": "code",
      "source": [
        "lb=LabelEncoder()\n",
        "\n",
        "for i in cat_columns_1:\n",
        "  df[i]=lb.fit_transform(df[i])"
      ],
      "metadata": {
        "id": "q0KZf9-FIjLw"
      },
      "execution_count": null,
      "outputs": []
    },
    {
      "cell_type": "code",
      "source": [
        "#NEW DATA TYPES OF COLUMNS\n",
        "\n",
        "df.dtypes"
      ],
      "metadata": {
        "id": "j24xHBOPJEWM",
        "colab": {
          "base_uri": "https://localhost:8080/"
        },
        "outputId": "e5f40bf7-3de7-43d3-f0cb-5ac67b252db1"
      },
      "execution_count": null,
      "outputs": [
        {
          "output_type": "execute_result",
          "data": {
            "text/plain": [
              "Age               int64\n",
              "Workclass         int64\n",
              "Fnlwgt            int64\n",
              "Education         int64\n",
              "education_num     int64\n",
              "marital_status    int64\n",
              "occupation        int64\n",
              "relationship      int64\n",
              "race              int64\n",
              "sex               int64\n",
              "capital_gain      int64\n",
              "capital_loss      int64\n",
              "hours_per_week    int64\n",
              "native_country    int64\n",
              "income            int64\n",
              "dtype: object"
            ]
          },
          "metadata": {},
          "execution_count": 13
        }
      ]
    },
    {
      "cell_type": "code",
      "source": [
        "df.head()"
      ],
      "metadata": {
        "id": "hEUDGpH1JJ_d",
        "colab": {
          "base_uri": "https://localhost:8080/",
          "height": 270
        },
        "outputId": "b07caa3e-ccad-4c9a-d667-89c205652b6e"
      },
      "execution_count": null,
      "outputs": [
        {
          "output_type": "execute_result",
          "data": {
            "text/plain": [
              "   Age  Workclass  Fnlwgt  Education  education_num  marital_status  \\\n",
              "0   50          6   83311          9             13               2   \n",
              "1   38          4  215646         11              9               0   \n",
              "2   53          4  234721          1              7               2   \n",
              "3   28          4  338409          9             13               2   \n",
              "4   37          4  284582         12             14               2   \n",
              "\n",
              "   occupation  relationship  race  sex  capital_gain  capital_loss  \\\n",
              "0           4             0     4    1             0             0   \n",
              "1           6             1     4    1             0             0   \n",
              "2           6             0     2    1             0             0   \n",
              "3          10             5     2    0             0             0   \n",
              "4           4             5     4    0             0             0   \n",
              "\n",
              "   hours_per_week  native_country  income  \n",
              "0              13              39       0  \n",
              "1              40              39       0  \n",
              "2              40              39       0  \n",
              "3              40               5       0  \n",
              "4              40              39       0  "
            ],
            "text/html": [
              "\n",
              "  <div id=\"df-3878e735-7fab-459e-93b5-84767f08f86e\">\n",
              "    <div class=\"colab-df-container\">\n",
              "      <div>\n",
              "<style scoped>\n",
              "    .dataframe tbody tr th:only-of-type {\n",
              "        vertical-align: middle;\n",
              "    }\n",
              "\n",
              "    .dataframe tbody tr th {\n",
              "        vertical-align: top;\n",
              "    }\n",
              "\n",
              "    .dataframe thead th {\n",
              "        text-align: right;\n",
              "    }\n",
              "</style>\n",
              "<table border=\"1\" class=\"dataframe\">\n",
              "  <thead>\n",
              "    <tr style=\"text-align: right;\">\n",
              "      <th></th>\n",
              "      <th>Age</th>\n",
              "      <th>Workclass</th>\n",
              "      <th>Fnlwgt</th>\n",
              "      <th>Education</th>\n",
              "      <th>education_num</th>\n",
              "      <th>marital_status</th>\n",
              "      <th>occupation</th>\n",
              "      <th>relationship</th>\n",
              "      <th>race</th>\n",
              "      <th>sex</th>\n",
              "      <th>capital_gain</th>\n",
              "      <th>capital_loss</th>\n",
              "      <th>hours_per_week</th>\n",
              "      <th>native_country</th>\n",
              "      <th>income</th>\n",
              "    </tr>\n",
              "  </thead>\n",
              "  <tbody>\n",
              "    <tr>\n",
              "      <th>0</th>\n",
              "      <td>50</td>\n",
              "      <td>6</td>\n",
              "      <td>83311</td>\n",
              "      <td>9</td>\n",
              "      <td>13</td>\n",
              "      <td>2</td>\n",
              "      <td>4</td>\n",
              "      <td>0</td>\n",
              "      <td>4</td>\n",
              "      <td>1</td>\n",
              "      <td>0</td>\n",
              "      <td>0</td>\n",
              "      <td>13</td>\n",
              "      <td>39</td>\n",
              "      <td>0</td>\n",
              "    </tr>\n",
              "    <tr>\n",
              "      <th>1</th>\n",
              "      <td>38</td>\n",
              "      <td>4</td>\n",
              "      <td>215646</td>\n",
              "      <td>11</td>\n",
              "      <td>9</td>\n",
              "      <td>0</td>\n",
              "      <td>6</td>\n",
              "      <td>1</td>\n",
              "      <td>4</td>\n",
              "      <td>1</td>\n",
              "      <td>0</td>\n",
              "      <td>0</td>\n",
              "      <td>40</td>\n",
              "      <td>39</td>\n",
              "      <td>0</td>\n",
              "    </tr>\n",
              "    <tr>\n",
              "      <th>2</th>\n",
              "      <td>53</td>\n",
              "      <td>4</td>\n",
              "      <td>234721</td>\n",
              "      <td>1</td>\n",
              "      <td>7</td>\n",
              "      <td>2</td>\n",
              "      <td>6</td>\n",
              "      <td>0</td>\n",
              "      <td>2</td>\n",
              "      <td>1</td>\n",
              "      <td>0</td>\n",
              "      <td>0</td>\n",
              "      <td>40</td>\n",
              "      <td>39</td>\n",
              "      <td>0</td>\n",
              "    </tr>\n",
              "    <tr>\n",
              "      <th>3</th>\n",
              "      <td>28</td>\n",
              "      <td>4</td>\n",
              "      <td>338409</td>\n",
              "      <td>9</td>\n",
              "      <td>13</td>\n",
              "      <td>2</td>\n",
              "      <td>10</td>\n",
              "      <td>5</td>\n",
              "      <td>2</td>\n",
              "      <td>0</td>\n",
              "      <td>0</td>\n",
              "      <td>0</td>\n",
              "      <td>40</td>\n",
              "      <td>5</td>\n",
              "      <td>0</td>\n",
              "    </tr>\n",
              "    <tr>\n",
              "      <th>4</th>\n",
              "      <td>37</td>\n",
              "      <td>4</td>\n",
              "      <td>284582</td>\n",
              "      <td>12</td>\n",
              "      <td>14</td>\n",
              "      <td>2</td>\n",
              "      <td>4</td>\n",
              "      <td>5</td>\n",
              "      <td>4</td>\n",
              "      <td>0</td>\n",
              "      <td>0</td>\n",
              "      <td>0</td>\n",
              "      <td>40</td>\n",
              "      <td>39</td>\n",
              "      <td>0</td>\n",
              "    </tr>\n",
              "  </tbody>\n",
              "</table>\n",
              "</div>\n",
              "      <button class=\"colab-df-convert\" onclick=\"convertToInteractive('df-3878e735-7fab-459e-93b5-84767f08f86e')\"\n",
              "              title=\"Convert this dataframe to an interactive table.\"\n",
              "              style=\"display:none;\">\n",
              "        \n",
              "  <svg xmlns=\"http://www.w3.org/2000/svg\" height=\"24px\"viewBox=\"0 0 24 24\"\n",
              "       width=\"24px\">\n",
              "    <path d=\"M0 0h24v24H0V0z\" fill=\"none\"/>\n",
              "    <path d=\"M18.56 5.44l.94 2.06.94-2.06 2.06-.94-2.06-.94-.94-2.06-.94 2.06-2.06.94zm-11 1L8.5 8.5l.94-2.06 2.06-.94-2.06-.94L8.5 2.5l-.94 2.06-2.06.94zm10 10l.94 2.06.94-2.06 2.06-.94-2.06-.94-.94-2.06-.94 2.06-2.06.94z\"/><path d=\"M17.41 7.96l-1.37-1.37c-.4-.4-.92-.59-1.43-.59-.52 0-1.04.2-1.43.59L10.3 9.45l-7.72 7.72c-.78.78-.78 2.05 0 2.83L4 21.41c.39.39.9.59 1.41.59.51 0 1.02-.2 1.41-.59l7.78-7.78 2.81-2.81c.8-.78.8-2.07 0-2.86zM5.41 20L4 18.59l7.72-7.72 1.47 1.35L5.41 20z\"/>\n",
              "  </svg>\n",
              "      </button>\n",
              "      \n",
              "  <style>\n",
              "    .colab-df-container {\n",
              "      display:flex;\n",
              "      flex-wrap:wrap;\n",
              "      gap: 12px;\n",
              "    }\n",
              "\n",
              "    .colab-df-convert {\n",
              "      background-color: #E8F0FE;\n",
              "      border: none;\n",
              "      border-radius: 50%;\n",
              "      cursor: pointer;\n",
              "      display: none;\n",
              "      fill: #1967D2;\n",
              "      height: 32px;\n",
              "      padding: 0 0 0 0;\n",
              "      width: 32px;\n",
              "    }\n",
              "\n",
              "    .colab-df-convert:hover {\n",
              "      background-color: #E2EBFA;\n",
              "      box-shadow: 0px 1px 2px rgba(60, 64, 67, 0.3), 0px 1px 3px 1px rgba(60, 64, 67, 0.15);\n",
              "      fill: #174EA6;\n",
              "    }\n",
              "\n",
              "    [theme=dark] .colab-df-convert {\n",
              "      background-color: #3B4455;\n",
              "      fill: #D2E3FC;\n",
              "    }\n",
              "\n",
              "    [theme=dark] .colab-df-convert:hover {\n",
              "      background-color: #434B5C;\n",
              "      box-shadow: 0px 1px 3px 1px rgba(0, 0, 0, 0.15);\n",
              "      filter: drop-shadow(0px 1px 2px rgba(0, 0, 0, 0.3));\n",
              "      fill: #FFFFFF;\n",
              "    }\n",
              "  </style>\n",
              "\n",
              "      <script>\n",
              "        const buttonEl =\n",
              "          document.querySelector('#df-3878e735-7fab-459e-93b5-84767f08f86e button.colab-df-convert');\n",
              "        buttonEl.style.display =\n",
              "          google.colab.kernel.accessAllowed ? 'block' : 'none';\n",
              "\n",
              "        async function convertToInteractive(key) {\n",
              "          const element = document.querySelector('#df-3878e735-7fab-459e-93b5-84767f08f86e');\n",
              "          const dataTable =\n",
              "            await google.colab.kernel.invokeFunction('convertToInteractive',\n",
              "                                                     [key], {});\n",
              "          if (!dataTable) return;\n",
              "\n",
              "          const docLinkHtml = 'Like what you see? Visit the ' +\n",
              "            '<a target=\"_blank\" href=https://colab.research.google.com/notebooks/data_table.ipynb>data table notebook</a>'\n",
              "            + ' to learn more about interactive tables.';\n",
              "          element.innerHTML = '';\n",
              "          dataTable['output_type'] = 'display_data';\n",
              "          await google.colab.output.renderOutput(dataTable, element);\n",
              "          const docLink = document.createElement('div');\n",
              "          docLink.innerHTML = docLinkHtml;\n",
              "          element.appendChild(docLink);\n",
              "        }\n",
              "      </script>\n",
              "    </div>\n",
              "  </div>\n",
              "  "
            ]
          },
          "metadata": {},
          "execution_count": 14
        }
      ]
    },
    {
      "cell_type": "code",
      "source": [
        "df['Workclass'].value_counts()"
      ],
      "metadata": {
        "id": "b9_8hm_sJMdN",
        "colab": {
          "base_uri": "https://localhost:8080/"
        },
        "outputId": "488e89ae-5f10-4d81-bd81-df411315776c"
      },
      "execution_count": null,
      "outputs": [
        {
          "output_type": "execute_result",
          "data": {
            "text/plain": [
              "4    22696\n",
              "6     2541\n",
              "2     2093\n",
              "0     1836\n",
              "7     1297\n",
              "5     1116\n",
              "1      960\n",
              "8       14\n",
              "3        7\n",
              "Name: Workclass, dtype: int64"
            ]
          },
          "metadata": {},
          "execution_count": 15
        }
      ]
    },
    {
      "cell_type": "code",
      "source": [
        "df['Education'].value_counts()"
      ],
      "metadata": {
        "id": "zycwJ3qSK5Ox",
        "colab": {
          "base_uri": "https://localhost:8080/"
        },
        "outputId": "c743259b-d85b-4f90-d0b3-65929befdb39"
      },
      "execution_count": null,
      "outputs": [
        {
          "output_type": "execute_result",
          "data": {
            "text/plain": [
              "11    10501\n",
              "15     7291\n",
              "9      5354\n",
              "12     1723\n",
              "8      1382\n",
              "1      1175\n",
              "7      1067\n",
              "0       933\n",
              "5       646\n",
              "14      576\n",
              "6       514\n",
              "2       433\n",
              "10      413\n",
              "4       333\n",
              "3       168\n",
              "13       51\n",
              "Name: Education, dtype: int64"
            ]
          },
          "metadata": {},
          "execution_count": 16
        }
      ]
    },
    {
      "cell_type": "code",
      "source": [
        "\n",
        "\n",
        "df['marital_status'].value_counts()"
      ],
      "metadata": {
        "id": "LRT7AknSK9tN",
        "colab": {
          "base_uri": "https://localhost:8080/"
        },
        "outputId": "b0017650-867f-4a0f-f611-0389a51b46e2"
      },
      "execution_count": null,
      "outputs": [
        {
          "output_type": "execute_result",
          "data": {
            "text/plain": [
              "2    14976\n",
              "4    10682\n",
              "0     4443\n",
              "5     1025\n",
              "6      993\n",
              "3      418\n",
              "1       23\n",
              "Name: marital_status, dtype: int64"
            ]
          },
          "metadata": {},
          "execution_count": 17
        }
      ]
    },
    {
      "cell_type": "code",
      "source": [
        "\n",
        "df['occupation'].value_counts()"
      ],
      "metadata": {
        "id": "skvFGTKeLJZg",
        "colab": {
          "base_uri": "https://localhost:8080/"
        },
        "outputId": "a7ea8887-037f-4327-f434-f1a9be166ca5"
      },
      "execution_count": null,
      "outputs": [
        {
          "output_type": "execute_result",
          "data": {
            "text/plain": [
              "10    4140\n",
              "3     4099\n",
              "4     4066\n",
              "1     3769\n",
              "12    3650\n",
              "8     3295\n",
              "7     2002\n",
              "0     1843\n",
              "14    1597\n",
              "6     1370\n",
              "5      994\n",
              "13     928\n",
              "11     649\n",
              "9      149\n",
              "2        9\n",
              "Name: occupation, dtype: int64"
            ]
          },
          "metadata": {},
          "execution_count": 18
        }
      ]
    },
    {
      "cell_type": "code",
      "source": [
        "df['relationship'].value_counts()"
      ],
      "metadata": {
        "id": "DHldhHJsLQJB",
        "colab": {
          "base_uri": "https://localhost:8080/"
        },
        "outputId": "75b5ca07-b75b-40c5-ab77-0af4c87ec67e"
      },
      "execution_count": null,
      "outputs": [
        {
          "output_type": "execute_result",
          "data": {
            "text/plain": [
              "0    13193\n",
              "1     8304\n",
              "3     5068\n",
              "4     3446\n",
              "5     1568\n",
              "2      981\n",
              "Name: relationship, dtype: int64"
            ]
          },
          "metadata": {},
          "execution_count": 19
        }
      ]
    },
    {
      "cell_type": "code",
      "source": [
        "df['race'].value_counts()"
      ],
      "metadata": {
        "id": "LV-4WfXwLX9K",
        "colab": {
          "base_uri": "https://localhost:8080/"
        },
        "outputId": "660ecf0f-2a82-495d-e03d-b681077dfa07"
      },
      "execution_count": null,
      "outputs": [
        {
          "output_type": "execute_result",
          "data": {
            "text/plain": [
              "4    27815\n",
              "2     3124\n",
              "1     1039\n",
              "0      311\n",
              "3      271\n",
              "Name: race, dtype: int64"
            ]
          },
          "metadata": {},
          "execution_count": 20
        }
      ]
    },
    {
      "cell_type": "code",
      "source": [
        "df['sex'].value_counts()"
      ],
      "metadata": {
        "id": "PoowHaD8LcJ9",
        "colab": {
          "base_uri": "https://localhost:8080/"
        },
        "outputId": "0eb9f949-80e5-4474-8437-7b99a889d949"
      },
      "execution_count": null,
      "outputs": [
        {
          "output_type": "execute_result",
          "data": {
            "text/plain": [
              "1    21789\n",
              "0    10771\n",
              "Name: sex, dtype: int64"
            ]
          },
          "metadata": {},
          "execution_count": 21
        }
      ]
    },
    {
      "cell_type": "code",
      "source": [
        " df['native_country'].value_counts()"
      ],
      "metadata": {
        "id": "DK6HzqihLgUt",
        "colab": {
          "base_uri": "https://localhost:8080/"
        },
        "outputId": "0a03d92c-e3c7-4769-bc2e-4af09cead6e9"
      },
      "execution_count": null,
      "outputs": [
        {
          "output_type": "execute_result",
          "data": {
            "text/plain": [
              "39    29169\n",
              "26      643\n",
              "0       583\n",
              "30      198\n",
              "11      137\n",
              "2       121\n",
              "33      114\n",
              "8       106\n",
              "19      100\n",
              "5        95\n",
              "9        90\n",
              "23       81\n",
              "35       80\n",
              "3        75\n",
              "22       73\n",
              "6        70\n",
              "40       67\n",
              "13       64\n",
              "24       62\n",
              "31       60\n",
              "4        59\n",
              "36       51\n",
              "14       44\n",
              "20       43\n",
              "32       37\n",
              "27       34\n",
              "29       31\n",
              "10       29\n",
              "12       29\n",
              "7        28\n",
              "21       24\n",
              "17       20\n",
              "1        19\n",
              "38       19\n",
              "25       18\n",
              "37       18\n",
              "41       16\n",
              "28       14\n",
              "16       13\n",
              "18       13\n",
              "34       12\n",
              "15        1\n",
              "Name: native_country, dtype: int64"
            ]
          },
          "metadata": {},
          "execution_count": 22
        }
      ]
    },
    {
      "cell_type": "code",
      "source": [
        "df['income'].value_counts()"
      ],
      "metadata": {
        "id": "vEBJxxURLkZ1",
        "colab": {
          "base_uri": "https://localhost:8080/"
        },
        "outputId": "ce3b9669-1e18-4a90-edce-251a25afe68d"
      },
      "execution_count": null,
      "outputs": [
        {
          "output_type": "execute_result",
          "data": {
            "text/plain": [
              "0    24719\n",
              "1     7841\n",
              "Name: income, dtype: int64"
            ]
          },
          "metadata": {},
          "execution_count": 23
        }
      ]
    },
    {
      "cell_type": "markdown",
      "source": [
        "#**BUILDING MODEL**"
      ],
      "metadata": {
        "id": "J75Qd12MNfjs"
      }
    },
    {
      "cell_type": "code",
      "source": [
        "#Creating a custom function for reducing the redundancy for the confusion matrix and classification report\n",
        "def generate_cm_accuracy(y_test,y_pred):\n",
        "  from sklearn.metrics import confusion_matrix,classification_report,accuracy_score\n",
        "  cm=confusion_matrix(y_test,y_pred)\n",
        "  print(cm)\n",
        "  print(classification_report(y_test,y_pred))\n",
        "  print(\"ACCURACY OF MODEL : \",accuracy_score(y_test,y_pred))\n",
        "  print(\"----------------------------------------------------\")\n",
        "#WE KNOW : ACCURACY = 1-MISCLASSIFICATION\n",
        "# THUS, MISCLASSIFICATION = 1-ACCURACY\n",
        "# PERCENTAGE OF MISCLASSIFICATION WILL BE 100*(1-ACCURACY)\n",
        "  print(\"PERCENTAGE OF MISCLASSIFICATION : \",100*(1-accuracy_score(y_test,y_pred)))"
      ],
      "metadata": {
        "id": "KFnGZ4U_NiDe"
      },
      "execution_count": null,
      "outputs": []
    },
    {
      "cell_type": "code",
      "source": [
        "#FUNCTION FOR TRAINING AND TESTING SCORE\n",
        "\n",
        "def train_test_score(model):\n",
        "  print(\"Training Score: \",model.score(x_train,y_train))\n",
        "  print(\"Testing Score: \",model.score(x_test,y_test))"
      ],
      "metadata": {
        "id": "gXSRywYxNoou"
      },
      "execution_count": null,
      "outputs": []
    },
    {
      "cell_type": "code",
      "source": [
        "#Now, we will split the given data into train and test data.\n",
        "#Test size will be 20%\n",
        "\n",
        "#Divding the data into dependent and independent categories.\n",
        "\n",
        "x=df.drop('income',axis=1)\n",
        "y=df['income']\n",
        "\n",
        "print(type(x),type(y))\n",
        "print(x.shape,y.shape)"
      ],
      "metadata": {
        "id": "lVHcb9-JOu_r",
        "colab": {
          "base_uri": "https://localhost:8080/"
        },
        "outputId": "31cc8bf4-b0a4-4777-9fd0-55d38040c719"
      },
      "execution_count": null,
      "outputs": [
        {
          "output_type": "stream",
          "name": "stdout",
          "text": [
            "<class 'pandas.core.frame.DataFrame'> <class 'pandas.core.series.Series'>\n",
            "(32560, 14) (32560,)\n"
          ]
        }
      ]
    },
    {
      "cell_type": "code",
      "source": [
        "from sklearn.model_selection import train_test_split\n",
        "\n",
        "x_train,x_test,y_train,y_test=train_test_split(x,y,test_size=0.2)"
      ],
      "metadata": {
        "id": "KMrGDx1NPD6i"
      },
      "execution_count": null,
      "outputs": []
    },
    {
      "cell_type": "code",
      "source": [
        "print(x_train.shape,y_train.shape)"
      ],
      "metadata": {
        "id": "E4BHLBLbPIDW",
        "colab": {
          "base_uri": "https://localhost:8080/"
        },
        "outputId": "0023eb8e-8696-40f3-8f4b-b4e52003fd3f"
      },
      "execution_count": null,
      "outputs": [
        {
          "output_type": "stream",
          "name": "stdout",
          "text": [
            "(26048, 14) (26048,)\n"
          ]
        }
      ]
    },
    {
      "cell_type": "code",
      "source": [
        "#IMPORTING THE IMPORTANT LIBRARIES FOR THE MODELS:\n",
        "\n",
        "# WE WILL USE THE FOLLOWING ALGORITHMS:\n",
        "# a. Decision Tree Classifier\n",
        "# b. Random Forest Classifier\n",
        "# c. KNN Classifier\n",
        "# d. Logistic Regression\n",
        "# e. SVM Classifier\n",
        "\n",
        "from sklearn.linear_model import LogisticRegression\n",
        "from sklearn.tree import DecisionTreeClassifier\n",
        "from  sklearn.ensemble import RandomForestClassifier\n",
        "from sklearn.svm import SVC\n",
        "from sklearn.neighbors import KNeighborsClassifier"
      ],
      "metadata": {
        "id": "ZhX_Ok4oPLH0"
      },
      "execution_count": null,
      "outputs": []
    },
    {
      "cell_type": "markdown",
      "source": [
        "#**DECISION TREE CLASSIFIER**\n"
      ],
      "metadata": {
        "id": "cg38jcBsSIjn"
      }
    },
    {
      "cell_type": "code",
      "source": [
        "model_1=DecisionTreeClassifier(criterion='gini',max_depth=9)\n",
        "model_1.fit(x_train,y_train)\n",
        "\n"
      ],
      "metadata": {
        "id": "j_DWusFGQwPf",
        "colab": {
          "base_uri": "https://localhost:8080/"
        },
        "outputId": "4e61c294-759b-45b4-ca9b-fef282738629"
      },
      "execution_count": null,
      "outputs": [
        {
          "output_type": "execute_result",
          "data": {
            "text/plain": [
              "DecisionTreeClassifier(max_depth=9)"
            ]
          },
          "metadata": {},
          "execution_count": 30
        }
      ]
    },
    {
      "cell_type": "code",
      "source": [
        "train_test_score(model_1)"
      ],
      "metadata": {
        "id": "Hki9rPqOSHSS",
        "colab": {
          "base_uri": "https://localhost:8080/"
        },
        "outputId": "23469110-3ec9-43d4-ac31-2a3f39cc124f"
      },
      "execution_count": null,
      "outputs": [
        {
          "output_type": "stream",
          "name": "stdout",
          "text": [
            "Training Score:  0.8638667076167076\n",
            "Testing Score:  0.8521191646191646\n"
          ]
        }
      ]
    },
    {
      "cell_type": "code",
      "source": [
        "ypred_model_1=model_1.predict(x_test)\n",
        "print(ypred_model_1)"
      ],
      "metadata": {
        "id": "yL7xWi14SQEs",
        "colab": {
          "base_uri": "https://localhost:8080/"
        },
        "outputId": "80a4ff4d-dfe0-46c3-fe4b-3cb71ed40c24"
      },
      "execution_count": null,
      "outputs": [
        {
          "output_type": "stream",
          "name": "stdout",
          "text": [
            "[0 0 0 ... 0 0 0]\n"
          ]
        }
      ]
    },
    {
      "cell_type": "code",
      "source": [
        "generate_cm_accuracy(y_test,ypred_model_1)"
      ],
      "metadata": {
        "id": "FOkUcQnoSXj0",
        "colab": {
          "base_uri": "https://localhost:8080/"
        },
        "outputId": "79e881fa-93b1-4af8-e824-857f71be21f8"
      },
      "execution_count": null,
      "outputs": [
        {
          "output_type": "stream",
          "name": "stdout",
          "text": [
            "[[4641  328]\n",
            " [ 635  908]]\n",
            "              precision    recall  f1-score   support\n",
            "\n",
            "           0       0.88      0.93      0.91      4969\n",
            "           1       0.73      0.59      0.65      1543\n",
            "\n",
            "    accuracy                           0.85      6512\n",
            "   macro avg       0.81      0.76      0.78      6512\n",
            "weighted avg       0.85      0.85      0.85      6512\n",
            "\n",
            "ACCURACY OF MODEL :  0.8521191646191646\n",
            "----------------------------------------------------\n",
            "PERCENTAGE OF MISCLASSIFICATION :  14.78808353808354\n"
          ]
        }
      ]
    },
    {
      "cell_type": "markdown",
      "source": [
        "#**RANDOM FOREST CLASSIFIER**"
      ],
      "metadata": {
        "id": "MDO51j4OYBdh"
      }
    },
    {
      "cell_type": "code",
      "source": [
        "model_2=RandomForestClassifier(n_estimators=100,criterion='gini',max_depth=6)\n",
        "model_2.fit(x_train,y_train)"
      ],
      "metadata": {
        "id": "vgcs-pDOSaZH",
        "colab": {
          "base_uri": "https://localhost:8080/"
        },
        "outputId": "983a8929-5aa3-46c7-a2de-c08d391e8ac8"
      },
      "execution_count": null,
      "outputs": [
        {
          "output_type": "execute_result",
          "data": {
            "text/plain": [
              "RandomForestClassifier(max_depth=6)"
            ]
          },
          "metadata": {},
          "execution_count": 34
        }
      ]
    },
    {
      "cell_type": "code",
      "source": [
        "train_test_score(model_2)"
      ],
      "metadata": {
        "id": "XmY6PN9lZ7xB",
        "colab": {
          "base_uri": "https://localhost:8080/"
        },
        "outputId": "5683a495-f474-427f-b29e-3ff0ea1bdb7e"
      },
      "execution_count": null,
      "outputs": [
        {
          "output_type": "stream",
          "name": "stdout",
          "text": [
            "Training Score:  0.8551904176904177\n",
            "Testing Score:  0.8527334152334153\n"
          ]
        }
      ]
    },
    {
      "cell_type": "code",
      "source": [
        "ypred_model_2=model_2.predict(x_test)\n",
        "print(ypred_model_2)"
      ],
      "metadata": {
        "id": "gP5YZcCFZ9FY",
        "colab": {
          "base_uri": "https://localhost:8080/"
        },
        "outputId": "5f6cb9d1-c95f-4739-9262-bc92e8d2584c"
      },
      "execution_count": null,
      "outputs": [
        {
          "output_type": "stream",
          "name": "stdout",
          "text": [
            "[0 0 0 ... 0 0 0]\n"
          ]
        }
      ]
    },
    {
      "cell_type": "code",
      "source": [
        "print(generate_cm_accuracy(y_test,ypred_model_2))"
      ],
      "metadata": {
        "id": "2WOO-GJqaKjF",
        "colab": {
          "base_uri": "https://localhost:8080/"
        },
        "outputId": "e1e2ae50-4ca9-499f-97d8-d31fbd0ee4e0"
      },
      "execution_count": null,
      "outputs": [
        {
          "output_type": "stream",
          "name": "stdout",
          "text": [
            "[[4771  198]\n",
            " [ 761  782]]\n",
            "              precision    recall  f1-score   support\n",
            "\n",
            "           0       0.86      0.96      0.91      4969\n",
            "           1       0.80      0.51      0.62      1543\n",
            "\n",
            "    accuracy                           0.85      6512\n",
            "   macro avg       0.83      0.73      0.76      6512\n",
            "weighted avg       0.85      0.85      0.84      6512\n",
            "\n",
            "ACCURACY OF MODEL :  0.8527334152334153\n",
            "----------------------------------------------------\n",
            "PERCENTAGE OF MISCLASSIFICATION :  14.726658476658471\n",
            "None\n"
          ]
        }
      ]
    },
    {
      "cell_type": "markdown",
      "source": [
        "#**KNN**"
      ],
      "metadata": {
        "id": "pUoy3b95ZrtE"
      }
    },
    {
      "cell_type": "code",
      "source": [
        "#for N in Knn, N=sqrt(training_size)\n",
        "# tranining size is 26048\n",
        "# N=161\n",
        "model_3=KNeighborsClassifier(n_neighbors=161)\n",
        "model_3.fit(x_train,y_train)"
      ],
      "metadata": {
        "id": "qxtDg78hZZ3h",
        "colab": {
          "base_uri": "https://localhost:8080/"
        },
        "outputId": "a6cef303-f4b4-4953-d790-d57ccffc33fd"
      },
      "execution_count": null,
      "outputs": [
        {
          "output_type": "execute_result",
          "data": {
            "text/plain": [
              "KNeighborsClassifier(n_neighbors=161)"
            ]
          },
          "metadata": {},
          "execution_count": 38
        }
      ]
    },
    {
      "cell_type": "code",
      "source": [
        "train_test_score(model_3)"
      ],
      "metadata": {
        "id": "og5n-26zZ8cW",
        "colab": {
          "base_uri": "https://localhost:8080/"
        },
        "outputId": "5bff71c4-5cc8-43a4-af17-894cc5811abb"
      },
      "execution_count": null,
      "outputs": [
        {
          "output_type": "stream",
          "name": "stdout",
          "text": [
            "Training Score:  0.7793688574938575\n",
            "Testing Score:  0.7811732186732187\n"
          ]
        }
      ]
    },
    {
      "cell_type": "code",
      "source": [
        "ypred_model_3=model_3.predict(x_test)\n",
        "print(ypred_model_3)"
      ],
      "metadata": {
        "id": "OtkywHbLZ1Pt",
        "colab": {
          "base_uri": "https://localhost:8080/"
        },
        "outputId": "48063606-0178-4b7b-e7ec-9c8c6711e290"
      },
      "execution_count": null,
      "outputs": [
        {
          "output_type": "stream",
          "name": "stdout",
          "text": [
            "[0 0 0 ... 0 0 0]\n"
          ]
        }
      ]
    },
    {
      "cell_type": "code",
      "source": [
        "print(generate_cm_accuracy(y_test,ypred_model_3))"
      ],
      "metadata": {
        "id": "al2jOWN2Z1oh",
        "colab": {
          "base_uri": "https://localhost:8080/"
        },
        "outputId": "6d8a6d9c-03ac-4ee0-f590-0b92db4338a6"
      },
      "execution_count": null,
      "outputs": [
        {
          "output_type": "stream",
          "name": "stdout",
          "text": [
            "[[4967    2]\n",
            " [1423  120]]\n",
            "              precision    recall  f1-score   support\n",
            "\n",
            "           0       0.78      1.00      0.87      4969\n",
            "           1       0.98      0.08      0.14      1543\n",
            "\n",
            "    accuracy                           0.78      6512\n",
            "   macro avg       0.88      0.54      0.51      6512\n",
            "weighted avg       0.83      0.78      0.70      6512\n",
            "\n",
            "ACCURACY OF MODEL :  0.7811732186732187\n",
            "----------------------------------------------------\n",
            "PERCENTAGE OF MISCLASSIFICATION :  21.882678132678134\n",
            "None\n"
          ]
        }
      ]
    },
    {
      "cell_type": "markdown",
      "source": [
        "#**LOGISTIC REGRESSION**"
      ],
      "metadata": {
        "id": "IgJtWp4Xawns"
      }
    },
    {
      "cell_type": "code",
      "source": [
        "model_4=RandomForestClassifier()\n",
        "model_4.fit(x_train,y_train)"
      ],
      "metadata": {
        "id": "vFaJEpL5bV1r",
        "colab": {
          "base_uri": "https://localhost:8080/"
        },
        "outputId": "e80d8d6b-95d8-4fcf-bec7-a0b88e7de6e9"
      },
      "execution_count": null,
      "outputs": [
        {
          "output_type": "execute_result",
          "data": {
            "text/plain": [
              "RandomForestClassifier()"
            ]
          },
          "metadata": {},
          "execution_count": 42
        }
      ]
    },
    {
      "cell_type": "code",
      "source": [
        "train_test_score(model_4)"
      ],
      "metadata": {
        "id": "qMaGzLPZbXRs",
        "colab": {
          "base_uri": "https://localhost:8080/"
        },
        "outputId": "44b5a5b8-0399-4a5d-d0ec-7b3021d4e0ef"
      },
      "execution_count": null,
      "outputs": [
        {
          "output_type": "stream",
          "name": "stdout",
          "text": [
            "Training Score:  1.0\n",
            "Testing Score:  0.8585687960687961\n"
          ]
        }
      ]
    },
    {
      "cell_type": "code",
      "source": [
        "ypred_model_4=model_4.predict(x_test)\n",
        "print(ypred_model_4)"
      ],
      "metadata": {
        "id": "QjxuwdcDbZD2",
        "colab": {
          "base_uri": "https://localhost:8080/"
        },
        "outputId": "44354ea7-aa86-4651-cea4-e3931a622f90"
      },
      "execution_count": null,
      "outputs": [
        {
          "output_type": "stream",
          "name": "stdout",
          "text": [
            "[0 0 0 ... 0 0 0]\n"
          ]
        }
      ]
    },
    {
      "cell_type": "code",
      "source": [
        "print(generate_cm_accuracy(y_test,ypred_model_4))"
      ],
      "metadata": {
        "id": "2kHV9tyQbcHq",
        "colab": {
          "base_uri": "https://localhost:8080/"
        },
        "outputId": "0c27ae7d-9975-4025-b15b-78e81f37cb2c"
      },
      "execution_count": null,
      "outputs": [
        {
          "output_type": "stream",
          "name": "stdout",
          "text": [
            "[[4639  330]\n",
            " [ 591  952]]\n",
            "              precision    recall  f1-score   support\n",
            "\n",
            "           0       0.89      0.93      0.91      4969\n",
            "           1       0.74      0.62      0.67      1543\n",
            "\n",
            "    accuracy                           0.86      6512\n",
            "   macro avg       0.81      0.78      0.79      6512\n",
            "weighted avg       0.85      0.86      0.85      6512\n",
            "\n",
            "ACCURACY OF MODEL :  0.8585687960687961\n",
            "----------------------------------------------------\n",
            "PERCENTAGE OF MISCLASSIFICATION :  14.14312039312039\n",
            "None\n"
          ]
        }
      ]
    },
    {
      "cell_type": "markdown",
      "source": [
        "#**SVM**"
      ],
      "metadata": {
        "id": "w41uwjV5c6Ny"
      }
    },
    {
      "cell_type": "code",
      "source": [
        "model_5=SVC(kernel='linear',probability=False)\n",
        "model_5.fit(x_train,y_train)"
      ],
      "metadata": {
        "colab": {
          "base_uri": "https://localhost:8080/"
        },
        "id": "NnLohM8Xp7u6",
        "outputId": "fab3fc31-6389-471e-f782-e5a7223a3672"
      },
      "execution_count": null,
      "outputs": [
        {
          "output_type": "execute_result",
          "data": {
            "text/plain": [
              "SVC(kernel='linear')"
            ]
          },
          "metadata": {},
          "execution_count": 48
        }
      ]
    },
    {
      "cell_type": "code",
      "source": [
        "train_test_score(model_5)"
      ],
      "metadata": {
        "colab": {
          "base_uri": "https://localhost:8080/"
        },
        "id": "ZLDbL6hOrKQL",
        "outputId": "d6da87aa-3366-47bd-c2ad-ce9501598c92"
      },
      "execution_count": null,
      "outputs": [
        {
          "output_type": "stream",
          "name": "stdout",
          "text": [
            "Training Score:  0.7818740399385561\n",
            "Testing Score:  0.7974552634053088\n"
          ]
        }
      ]
    },
    {
      "cell_type": "code",
      "source": [
        "ypred_model_5=model_5.predict(x_test)\n",
        "print(ypred_model_5)"
      ],
      "metadata": {
        "colab": {
          "base_uri": "https://localhost:8080/"
        },
        "id": "02LVVExbrN8L",
        "outputId": "2d7221c6-7847-4ad7-e9be-7fde8564566f"
      },
      "execution_count": null,
      "outputs": [
        {
          "output_type": "stream",
          "name": "stdout",
          "text": [
            "[0 0 0 ... 0 0 0]\n"
          ]
        }
      ]
    },
    {
      "cell_type": "code",
      "source": [
        "print(generate_cm_accuracy(y_test,ypred_model_5))"
      ],
      "metadata": {
        "colab": {
          "base_uri": "https://localhost:8080/"
        },
        "id": "jojJS21prTKi",
        "outputId": "9c1e7465-b7bd-4fe8-b8f1-fd27f2ea4b6e"
      },
      "execution_count": null,
      "outputs": [
        {
          "output_type": "stream",
          "name": "stdout",
          "text": [
            "[[23649   584]\n",
            " [ 5879  1797]]\n",
            "              precision    recall  f1-score   support\n",
            "\n",
            "           0       0.80      0.98      0.88     24233\n",
            "           1       0.75      0.23      0.36      7676\n",
            "\n",
            "    accuracy                           0.80     31909\n",
            "   macro avg       0.78      0.61      0.62     31909\n",
            "weighted avg       0.79      0.80      0.75     31909\n",
            "\n",
            "ACCURACY OF MODEL :  0.7974552634053088\n",
            "----------------------------------------------------\n",
            "PERCENTAGE OF MISCLASSIFICATION :  20.25447365946912\n",
            "None\n"
          ]
        }
      ]
    },
    {
      "cell_type": "markdown",
      "source": [
        "#**MOST ACCURATE MODEL FOR THE GIVEN DATA-SET:**"
      ],
      "metadata": {
        "id": "KejMCC8td1sL"
      }
    },
    {
      "cell_type": "markdown",
      "source": [
        "\n",
        "\n",
        "* ACCURACY OF DECISION TREE CLASSIFIER : **85.21%**\n",
        "* ACCURACY OF RANDOM FOREST CLASSIFIER : **85.27%**\n",
        "* ACCURACY OF KNN CLASSIFIER : **78.1%**\n",
        "* ACCURACY OF LOGISTIC REGRESSION : **85.8%**\n",
        "* ACCURACY OF SVM CLASSIFIER : **79.7%**\n",
        "---\n",
        "---\n",
        "**MISCLASSIFICATION PERCENTAGE:**\n",
        "\n",
        "\n",
        "*   DECISION TREE CLASSIFIER : **14.78%**\n",
        "*   RANDOM FOREST CLASSIFIER : **14.72%**\n",
        "*   KNN CLASSIFIER : **21.88%**\n",
        "*   LOGISTIC REGRESSION : **14.14%**\n",
        "*   SVM CLASSIFIER: **20.25%**\n",
        "\n",
        "\n",
        "\n"
      ],
      "metadata": {
        "id": "vHMNTxC4jh_W"
      }
    },
    {
      "cell_type": "markdown",
      "source": [
        "---\n",
        "* **ACCORDING TO ME, EXCEPT FOR KNN AND SVM CLASSIFIER, ALL MODELS ARE HAVING ACCURACY IN A CLOSE PROXIMITY.**\n",
        "\n",
        "\n",
        "* ***LOGISTIC REGRESSION*** **HAS THE HIGHEST ACCURACY OF ALL. HOWEVER, BOTH DECISION TREE CLASSIFIER AND RANDOM FOREST CLASSIFIER ARE ALSO NOT TOO FAR.**\n",
        "\n",
        "* **HOWEVER, ACCORDING TO ME, SEEING THE INTERNAL MECHANISM, RANDOM FOREST CLASSIFIER BECOMES A GREAT CHOICE**\n",
        "\n"
      ],
      "metadata": {
        "id": "aI9h6-disWtc"
      }
    }
  ]
}